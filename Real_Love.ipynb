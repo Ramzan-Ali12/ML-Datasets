{
 "cells": [
  {
   "cell_type": "code",
   "execution_count": 67,
   "id": "e02f0d48-012e-44f1-802f-c802b6f87371",
   "metadata": {},
   "outputs": [],
   "source": [
    "from selenium import webdriver\n",
    "import pandas as pd\n",
    "from selenium.webdriver.common.by import By\n",
    "import warnings\n",
    "warnings.filterwarnings(\"ignore\")\n",
    "driver = webdriver.Chrome(\"chromedriver.exe\")"
   ]
  },
  {
   "cell_type": "code",
   "execution_count": 68,
   "id": "860c8d81-0763-43b1-9872-69155d23f656",
   "metadata": {},
   "outputs": [],
   "source": [
    "driver.get(\"http://aashilovestory.blogspot.com/2017/04/a-love-story-in-roman-urduhindi-some.html\")\n"
   ]
  },
  {
   "cell_type": "code",
   "execution_count": 69,
   "id": "07454c59-7bd3-4f46-9b29-f358f793c162",
   "metadata": {},
   "outputs": [],
   "source": [
    "articles =driver.find_elements_by_xpath('//*[@id=\"post-body-571605657115269462\"]')"
   ]
  },
  {
   "cell_type": "code",
   "execution_count": 72,
   "id": "72966c46-8680-4686-be62-45476675ab74",
   "metadata": {},
   "outputs": [
    {
     "data": {
      "text/plain": [
       "'JAAN E   ANJAANAE   MEN\\nHamko Pyar Hogaya            (AASHI)\\n\\nABOUT STORY\\nAik Dairy k Kuch Pages Kuch Iqtebaasaat Kuch Waaqiat Kuch Yaaden Kuch Baaten...\\nYe aik aisi interesting real love story he jo Jaane Anjane me shroo hoi aur shiddat men badal gae..\\nWo sahi kehty hen kehny walay keh pyar kia nahi jaata ho jaata hay\\nIs story men bhi aisa he kuch howa lekin kuch ajeeb sa kuch anjana sa kuch unhoni si..\\nJis men aik dusray ko dekhay bina he LOVE howa aur aisa such\\'cha love k shyd kabhi sunna naho Han Films aur Dramon men aur Purani Kahaniyon men to is tarah ki story ho lekin haqiqat men shyed na suni ho...\\nLekin ismen aik aur ajeeb sa stage hy dono he apni apni situation men aik doraahay per ponhuch jatay hen keh........\\nStory ka aghaz bhi ajeeb anjaney way men hota hay\\nWaqiat k saath saath SMS (Messages) bhi is story men shamil hen jo aik dusray ko send keye gae...\\nYe Hen chand pages chand iqtebasaat is dairy k, aap bhi parheye..\\n\\n\\n\\n**********⏭⏭⏭⏭⏭⏭⏭⏮⏮⏮⏮⏮⏮⏮⏮**********\\n**********⇔⇔⇔**********\\nDoston say suna bhi aur Doston ko dekha bhi keh wo dostian kartay friends banatay, aksar dil men khayal aaya k koi dost ho but jis mahool aur family say mera talluq hay wahan ye sub bal keh is ka tassawor bhi mahaal hay, insani fitrat hay dosti ki khwahish, isi khwahish men aik dost k mobile say aik number trace kia jis per us nay kisi say aksar mere samnay baaten ki, khwahish hoi is ko jannay ki k kon hay, kia hay, aik khwahish lagan ye bhi k agar ye ye jiska number hay wo ghalat rah pey hay to isko behtri ki taraf lanay ki koshish ki jae, aur ye khwahish wo hay keh \"Neiki Karo Aur Galay Men Daalo\", behar kaif hamne bhi is khwahish men is anjaney samander men chalang laga he di......\\nShayed ye March 2007 ki koi taareekh (Date) thi jab us unknown anjane mobile number per messages ka yak tarfa aaghaz howa , jo meney apnay dost k mobile say trace kia tha, aur taqreeban rozana he subuh sham is number per message karnay laga subuh ko ....\\n\\nAssalamoalaikuM\\nGOOD MORNING \\n\\n\\n\\naur phr raat ko soonay say pehley... \\nAssalamoalaikuM\\nGOOD NIGHT\\n\\nGoya ye mera mamool ban gaya rozana us number per message karna, Din guzarte rahy koi rabta na koi reply, wo fon number bhi aksar off rahta kabhi kabhi open hota to merey send keye howay kuch messages deliver hony ki report aa jati, jis say mujhay us number k ON ya OFF honay ka ilm hojata, aik din aik cal i mene attened ki but meri taraf sy khamoshi thi aur doosri taraf say bhi khamoshi, phir aik din dobara cal i mene hello kaha to dusri taraf sy kisi girl ki awaz i jo kisi sy keh rahi thi \"Gaahlaiye peo (baat karraha hay)\" aur phir cal end phir fon off phir kafi din khamoshi kabhi kabhi fon on hota phir kuch der men off  hojata, aik din jab meney is number per cal ki to kissi shakhs nay attend kia ghalban bazar me tha aur shor ki awazen thin to mene foran he call off kardi, baat kuch samajh nahi i k ye kia masla hay number kisi girl ka hay aur attened kisi boy nay kia, q?, aur phir aik fikar keh mere messages deliver na ho jain kahin koi masla na khara hojae lekin wo messages bil aakhir deliver ho he gae Good Morning aur Good Night k, aik ajeeb c tension anjani c fikar bhi aur phir aik din dopehar k koi 12.31pm per aik dosray number say aik message aaya\\n12072007-Thursday  \\nkal say aik number, 03xxxxxxx57, say Bohut si miscalls aain thin lekin jb bhi men call karon to wo number off milta tha, aaj bhi kuch miscalls ain aur phir aik call jo mene attned ki 11am pr, lekin koi baat nahi ki, sirf uski aawaz sunnay ki koshish ki keh kon hay, lekin koi baat nahi hosaki aur phir chand seconds k baad call band ho gae, kuch der baad phir miscalls aain lekin koi aat nahi hosaki to mene us number per aik message bheja keh…, \\n“ Aap kon?”\\nLekin koi reply jawab nahi aaya\\nAur phir 12.31pm per is number say aik message aaya keh….\\n\\n\"I m Sorry, J\\nHum say mistake hogae thi\\nHum aap ko nahi jantein hay\\nAgar aap humain janna chahtay hen to call back karo”.\"\\n\\n\\nYe wo pehla message tha jis say is anokhi , beyloss aur suchi dosti ka aaghaz howa.........\\n\\n........To be continue........ on next post........'"
      ]
     },
     "execution_count": 72,
     "metadata": {},
     "output_type": "execute_result"
    }
   ],
   "source": [
    "articles[0].text"
   ]
  },
  {
   "cell_type": "code",
   "execution_count": 75,
   "id": "fda0907e-29d3-47b0-9293-d716bc7d0567",
   "metadata": {},
   "outputs": [],
   "source": [
    "f = open(\"Real_Love.txt\",'w',encoding=\"utf-8\")"
   ]
  },
  {
   "cell_type": "code",
   "execution_count": 76,
   "id": "e57dd103-c336-4db1-be82-d25010b521b6",
   "metadata": {},
   "outputs": [
    {
     "data": {
      "text/plain": [
       "4069"
      ]
     },
     "execution_count": 76,
     "metadata": {},
     "output_type": "execute_result"
    }
   ],
   "source": [
    "f.write(articles[0].text)"
   ]
  },
  {
   "cell_type": "code",
   "execution_count": null,
   "id": "6ff920a2-22e1-4ca0-bad4-9852a98ea7cb",
   "metadata": {},
   "outputs": [],
   "source": []
  },
  {
   "cell_type": "code",
   "execution_count": null,
   "id": "dff25400-b3c7-4a30-968c-cd47462f1ca9",
   "metadata": {},
   "outputs": [],
   "source": []
  },
  {
   "cell_type": "code",
   "execution_count": null,
   "id": "f2ebf09d-2141-44be-b7c0-95a698842fee",
   "metadata": {},
   "outputs": [],
   "source": []
  }
 ],
 "metadata": {
  "kernelspec": {
   "display_name": "Python 3 (ipykernel)",
   "language": "python",
   "name": "python3"
  },
  "language_info": {
   "codemirror_mode": {
    "name": "ipython",
    "version": 3
   },
   "file_extension": ".py",
   "mimetype": "text/x-python",
   "name": "python",
   "nbconvert_exporter": "python",
   "pygments_lexer": "ipython3",
   "version": "3.9.4"
  }
 },
 "nbformat": 4,
 "nbformat_minor": 5
}
